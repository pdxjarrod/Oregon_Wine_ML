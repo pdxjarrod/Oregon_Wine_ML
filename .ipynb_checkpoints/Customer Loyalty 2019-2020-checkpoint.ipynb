{
 "cells": [
  {
   "cell_type": "code",
   "execution_count": 5,
   "metadata": {},
   "outputs": [],
   "source": [
    "import pandas as pd\n",
    "import numpy as np\n",
    "import matplotlib as plt\n",
    "import seaborn as sns\n",
    "%matplotlib inline"
   ]
  },
  {
   "cell_type": "code",
   "execution_count": 6,
   "metadata": {},
   "outputs": [],
   "source": [
    "loyalty = pd.read_csv('Data/customer_loyalty_2019.csv')"
   ]
  },
  {
   "cell_type": "code",
   "execution_count": 7,
   "metadata": {},
   "outputs": [
    {
     "data": {
      "text/html": [
       "<div>\n",
       "<style scoped>\n",
       "    .dataframe tbody tr th:only-of-type {\n",
       "        vertical-align: middle;\n",
       "    }\n",
       "\n",
       "    .dataframe tbody tr th {\n",
       "        vertical-align: top;\n",
       "    }\n",
       "\n",
       "    .dataframe thead th {\n",
       "        text-align: right;\n",
       "    }\n",
       "</style>\n",
       "<table border=\"1\" class=\"dataframe\">\n",
       "  <thead>\n",
       "    <tr style=\"text-align: right;\">\n",
       "      <th></th>\n",
       "      <th>Order Number</th>\n",
       "      <th>Wine Club Name</th>\n",
       "      <th>Retail Price</th>\n",
       "      <th>Subtotal</th>\n",
       "      <th>Revenue</th>\n",
       "      <th>Customer No.</th>\n",
       "      <th>Bill First Name</th>\n",
       "      <th>Bill Last Name</th>\n",
       "    </tr>\n",
       "  </thead>\n",
       "  <tbody>\n",
       "    <tr>\n",
       "      <th>0</th>\n",
       "      <td>-10152</td>\n",
       "      <td>NaN</td>\n",
       "      <td>0.0</td>\n",
       "      <td>0.0</td>\n",
       "      <td>0.0</td>\n",
       "      <td>2746</td>\n",
       "      <td>Walt &amp; Jeff</td>\n",
       "      <td>Lorence</td>\n",
       "    </tr>\n",
       "    <tr>\n",
       "      <th>2128</th>\n",
       "      <td>13494</td>\n",
       "      <td>NaN</td>\n",
       "      <td>25.0</td>\n",
       "      <td>0.0</td>\n",
       "      <td>0.0</td>\n",
       "      <td>1076</td>\n",
       "      <td>Owners</td>\n",
       "      <td>Samples</td>\n",
       "    </tr>\n",
       "    <tr>\n",
       "      <th>2109</th>\n",
       "      <td>13475</td>\n",
       "      <td>NaN</td>\n",
       "      <td>50.0</td>\n",
       "      <td>0.0</td>\n",
       "      <td>0.0</td>\n",
       "      <td>8398</td>\n",
       "      <td>Grape Escape</td>\n",
       "      <td>NaN</td>\n",
       "    </tr>\n",
       "    <tr>\n",
       "      <th>2104</th>\n",
       "      <td>13470</td>\n",
       "      <td>NaN</td>\n",
       "      <td>789.0</td>\n",
       "      <td>0.0</td>\n",
       "      <td>0.0</td>\n",
       "      <td>1075</td>\n",
       "      <td>Tasting Room</td>\n",
       "      <td>Samples</td>\n",
       "    </tr>\n",
       "    <tr>\n",
       "      <th>2102</th>\n",
       "      <td>13468</td>\n",
       "      <td>NaN</td>\n",
       "      <td>0.0</td>\n",
       "      <td>0.0</td>\n",
       "      <td>0.0</td>\n",
       "      <td>4119</td>\n",
       "      <td>Jess</td>\n",
       "      <td>Starrect</td>\n",
       "    </tr>\n",
       "    <tr>\n",
       "      <th>...</th>\n",
       "      <td>...</td>\n",
       "      <td>...</td>\n",
       "      <td>...</td>\n",
       "      <td>...</td>\n",
       "      <td>...</td>\n",
       "      <td>...</td>\n",
       "      <td>...</td>\n",
       "      <td>...</td>\n",
       "    </tr>\n",
       "    <tr>\n",
       "      <th>4854</th>\n",
       "      <td>16243</td>\n",
       "      <td>Ambassadors</td>\n",
       "      <td>2166.0</td>\n",
       "      <td>1624.5</td>\n",
       "      <td>1624.5</td>\n",
       "      <td>1214</td>\n",
       "      <td>Khrystia &amp; Wayne</td>\n",
       "      <td>Waibel</td>\n",
       "    </tr>\n",
       "    <tr>\n",
       "      <th>5229</th>\n",
       "      <td>16624</td>\n",
       "      <td>NaN</td>\n",
       "      <td>4200.0</td>\n",
       "      <td>2100.0</td>\n",
       "      <td>2100.0</td>\n",
       "      <td>5507</td>\n",
       "      <td>Furhann</td>\n",
       "      <td>Mian</td>\n",
       "    </tr>\n",
       "    <tr>\n",
       "      <th>3365</th>\n",
       "      <td>14731</td>\n",
       "      <td>NaN</td>\n",
       "      <td>4836.0</td>\n",
       "      <td>3385.2</td>\n",
       "      <td>3385.2</td>\n",
       "      <td>6521</td>\n",
       "      <td>Jerry</td>\n",
       "      <td>Wilger</td>\n",
       "    </tr>\n",
       "    <tr>\n",
       "      <th>319</th>\n",
       "      <td>11655</td>\n",
       "      <td>NaN</td>\n",
       "      <td>12600.0</td>\n",
       "      <td>6300.0</td>\n",
       "      <td>6300.0</td>\n",
       "      <td>5507</td>\n",
       "      <td>Furhann</td>\n",
       "      <td>Mian</td>\n",
       "    </tr>\n",
       "    <tr>\n",
       "      <th>389</th>\n",
       "      <td>11725</td>\n",
       "      <td>NaN</td>\n",
       "      <td>18816.0</td>\n",
       "      <td>17472.0</td>\n",
       "      <td>17472.0</td>\n",
       "      <td>5507</td>\n",
       "      <td>Furhann</td>\n",
       "      <td>Mian</td>\n",
       "    </tr>\n",
       "  </tbody>\n",
       "</table>\n",
       "<p>5333 rows × 8 columns</p>\n",
       "</div>"
      ],
      "text/plain": [
       "      Order Number Wine Club Name  Retail Price  Subtotal  Revenue  \\\n",
       "0           -10152            NaN           0.0       0.0      0.0   \n",
       "2128         13494            NaN          25.0       0.0      0.0   \n",
       "2109         13475            NaN          50.0       0.0      0.0   \n",
       "2104         13470            NaN         789.0       0.0      0.0   \n",
       "2102         13468            NaN           0.0       0.0      0.0   \n",
       "...            ...            ...           ...       ...      ...   \n",
       "4854         16243    Ambassadors        2166.0    1624.5   1624.5   \n",
       "5229         16624            NaN        4200.0    2100.0   2100.0   \n",
       "3365         14731            NaN        4836.0    3385.2   3385.2   \n",
       "319          11655            NaN       12600.0    6300.0   6300.0   \n",
       "389          11725            NaN       18816.0   17472.0  17472.0   \n",
       "\n",
       "      Customer No.   Bill First Name Bill Last Name  \n",
       "0             2746       Walt & Jeff        Lorence  \n",
       "2128          1076            Owners        Samples  \n",
       "2109          8398      Grape Escape            NaN  \n",
       "2104          1075      Tasting Room        Samples  \n",
       "2102          4119              Jess       Starrect  \n",
       "...            ...               ...            ...  \n",
       "4854          1214  Khrystia & Wayne         Waibel  \n",
       "5229          5507           Furhann           Mian  \n",
       "3365          6521             Jerry         Wilger  \n",
       "319           5507           Furhann           Mian  \n",
       "389           5507           Furhann           Mian  \n",
       "\n",
       "[5333 rows x 8 columns]"
      ]
     },
     "execution_count": 7,
     "metadata": {},
     "output_type": "execute_result"
    }
   ],
   "source": [
    "loyalty.sort_values(by='Revenue')"
   ]
  },
  {
   "cell_type": "code",
   "execution_count": 8,
   "metadata": {},
   "outputs": [
    {
     "data": {
      "text/plain": [
       "<seaborn.axisgrid.FacetGrid at 0x13fef13d9a0>"
      ]
     },
     "execution_count": 8,
     "metadata": {},
     "output_type": "execute_result"
    },
    {
     "data": {
      "image/png": "[encoded data removed]",
      "text/plain": [
       "<Figure size 360x360 with 1 Axes>"
      ]
     },
     "metadata": {
      "needs_background": "light"
     },
     "output_type": "display_data"
    }
   ],
   "source": [
    "sns.lmplot(x='Customer No.',y='Revenue',data=loyalty)"
   ]
  },
  {
   "cell_type": "code",
   "execution_count": 9,
   "metadata": {},
   "outputs": [
    {
     "data": {
      "text/plain": [
       "<AxesSubplot:>"
      ]
     },
     "execution_count": 9,
     "metadata": {},
     "output_type": "execute_result"
    },
    {
     "data": {
      "image/png": "[encoded data removed]",
      "text/plain": [
       "<Figure size 432x288 with 1 Axes>"
      ]
     },
     "metadata": {
      "needs_background": "light"
     },
     "output_type": "display_data"
    }
   ],
   "source": [
    "sns.heatmap(loyalty.isnull(),yticklabels=False,cbar=False,cmap='viridis')"
   ]
  },
  {
   "cell_type": "code",
   "execution_count": 10,
   "metadata": {},
   "outputs": [],
   "source": [
    "# Function to fill in missing values for names\n",
    "\n",
    "x = 'Name'\n",
    "\n",
    "def impute_name(cols):\n",
    "    name = cols\n",
    "        \n",
    "    if pd.isna(name):\n",
    "        return x\n",
    "    else:\n",
    "        return name\n",
    "\n",
    "loyalty['Bill Last Name'] = loyalty['Bill Last Name'].apply(impute_name)"
   ]
  },
  {
   "cell_type": "code",
   "execution_count": 11,
   "metadata": {},
   "outputs": [
    {
     "data": {
      "text/plain": [
       "<AxesSubplot:>"
      ]
     },
     "execution_count": 11,
     "metadata": {},
     "output_type": "execute_result"
    },
    {
     "data": {
      "image/png": "[encoded data removed]",
      "text/plain": [
       "<Figure size 432x288 with 1 Axes>"
      ]
     },
     "metadata": {
      "needs_background": "light"
     },
     "output_type": "display_data"
    }
   ],
   "source": [
    "sns.heatmap(loyalty.isnull(),yticklabels=False,cbar=False,cmap='viridis')"
   ]
  },
  {
   "cell_type": "code",
   "execution_count": 12,
   "metadata": {},
   "outputs": [],
   "source": [
    "# Loop through names column and pull out unique values\n",
    "\n",
    "unique_name_list = []\n",
    "\n",
    "unique_num = []\n",
    "     \n",
    "names = loyalty['Bill First Name']\n",
    "\n",
    "numbers = loyalty['Customer No.']\n",
    "# traverse for all elements\n",
    "for x,y in zip(names,numbers):\n",
    "        # check if exists in unique_list or not\n",
    "        if x not in unique_name_list:\n",
    "            unique_name_list.append(x)\n",
    "        else:\n",
    "       \n",
    "            unique_num.append(y)\n",
    "        \n",
    "    # print list\n",
    "# for x in unique_name_list:\n",
    "#         print (x)\n",
    "        \n",
    "#         for y in unique_num:\n",
    "#             print(y)\n",
    "            "
   ]
  },
  {
   "cell_type": "code",
   "execution_count": null,
   "metadata": {},
   "outputs": [],
   "source": []
  },
  {
   "cell_type": "code",
   "execution_count": 14,
   "metadata": {},
   "outputs": [],
   "source": [
    "# unique_name_list = []\n",
    "     \n",
    "# names = loyalty['Bill First Name']\n",
    "# # traverse for all elements\n",
    "# for x in names:\n",
    "#         # check if exists in unique_list or not\n",
    "#         if x not in unique_list:\n",
    "#             unique_name_list.append(x)\n",
    "#     # print list\n",
    "# for x in unique_list:\n",
    "#         print (x)"
   ]
  },
  {
   "cell_type": "code",
   "execution_count": 21,
   "metadata": {},
   "outputs": [],
   "source": [
    "grouped_buyers = loyalty.groupby(['Customer No.', 'Bill First Name','Bill Last Name']).sum().sort_values(by='Revenue',ascending=False)"
   ]
  },
  {
   "cell_type": "code",
   "execution_count": 22,
   "metadata": {
    "scrolled": true
   },
   "outputs": [
    {
     "data": {
      "text/html": [
       "<div>\n",
       "<style scoped>\n",
       "    .dataframe tbody tr th:only-of-type {\n",
       "        vertical-align: middle;\n",
       "    }\n",
       "\n",
       "    .dataframe tbody tr th {\n",
       "        vertical-align: top;\n",
       "    }\n",
       "\n",
       "    .dataframe thead th {\n",
       "        text-align: right;\n",
       "    }\n",
       "</style>\n",
       "<table border=\"1\" class=\"dataframe\">\n",
       "  <thead>\n",
       "    <tr style=\"text-align: right;\">\n",
       "      <th></th>\n",
       "      <th></th>\n",
       "      <th></th>\n",
       "      <th>Order Number</th>\n",
       "      <th>Retail Price</th>\n",
       "      <th>Subtotal</th>\n",
       "      <th>Revenue</th>\n",
       "    </tr>\n",
       "    <tr>\n",
       "      <th>Customer No.</th>\n",
       "      <th>Bill First Name</th>\n",
       "      <th>Bill Last Name</th>\n",
       "      <th></th>\n",
       "      <th></th>\n",
       "      <th></th>\n",
       "      <th></th>\n",
       "    </tr>\n",
       "  </thead>\n",
       "  <tbody>\n",
       "    <tr>\n",
       "      <th>5507</th>\n",
       "      <th>Furhann</th>\n",
       "      <th>Mian</th>\n",
       "      <td>40004</td>\n",
       "      <td>35616.0</td>\n",
       "      <td>25872.00</td>\n",
       "      <td>25872.00</td>\n",
       "    </tr>\n",
       "    <tr>\n",
       "      <th>1193</th>\n",
       "      <th>Wise Acre</th>\n",
       "      <th>Eatery</th>\n",
       "      <td>53785</td>\n",
       "      <td>4068.0</td>\n",
       "      <td>4068.00</td>\n",
       "      <td>4548.00</td>\n",
       "    </tr>\n",
       "    <tr>\n",
       "      <th>5802</th>\n",
       "      <th>Scott &amp; Christina</th>\n",
       "      <th>Mercer &amp; Pearl</th>\n",
       "      <td>92784</td>\n",
       "      <td>5391.0</td>\n",
       "      <td>4218.55</td>\n",
       "      <td>4218.55</td>\n",
       "    </tr>\n",
       "    <tr>\n",
       "      <th>3040</th>\n",
       "      <th>Leanna &amp; Jan</th>\n",
       "      <th>Smith &amp; Clark</th>\n",
       "      <td>444999</td>\n",
       "      <td>4963.0</td>\n",
       "      <td>3671.75</td>\n",
       "      <td>3671.75</td>\n",
       "    </tr>\n",
       "    <tr>\n",
       "      <th>5186</th>\n",
       "      <th>Lena</th>\n",
       "      <th>Davidson</th>\n",
       "      <td>267175</td>\n",
       "      <td>4850.0</td>\n",
       "      <td>3644.55</td>\n",
       "      <td>3644.55</td>\n",
       "    </tr>\n",
       "    <tr>\n",
       "      <th>...</th>\n",
       "      <th>...</th>\n",
       "      <th>...</th>\n",
       "      <td>...</td>\n",
       "      <td>...</td>\n",
       "      <td>...</td>\n",
       "      <td>...</td>\n",
       "    </tr>\n",
       "    <tr>\n",
       "      <th>9968</th>\n",
       "      <th>Guest</th>\n",
       "      <th>Name</th>\n",
       "      <td>16523</td>\n",
       "      <td>0.0</td>\n",
       "      <td>0.00</td>\n",
       "      <td>0.00</td>\n",
       "    </tr>\n",
       "    <tr>\n",
       "      <th>7435</th>\n",
       "      <th>Dan</th>\n",
       "      <th>Name</th>\n",
       "      <td>11440</td>\n",
       "      <td>0.0</td>\n",
       "      <td>0.00</td>\n",
       "      <td>0.00</td>\n",
       "    </tr>\n",
       "    <tr>\n",
       "      <th>9113</th>\n",
       "      <th>Mira &amp; Jessica</th>\n",
       "      <th>Name</th>\n",
       "      <td>14587</td>\n",
       "      <td>0.0</td>\n",
       "      <td>0.00</td>\n",
       "      <td>0.00</td>\n",
       "    </tr>\n",
       "    <tr>\n",
       "      <th>9111</th>\n",
       "      <th>Guest 1</th>\n",
       "      <th>Name</th>\n",
       "      <td>14584</td>\n",
       "      <td>0.0</td>\n",
       "      <td>0.00</td>\n",
       "      <td>0.00</td>\n",
       "    </tr>\n",
       "    <tr>\n",
       "      <th>8788</th>\n",
       "      <th>Jeff</th>\n",
       "      <th>Name</th>\n",
       "      <td>14048</td>\n",
       "      <td>0.0</td>\n",
       "      <td>0.00</td>\n",
       "      <td>0.00</td>\n",
       "    </tr>\n",
       "  </tbody>\n",
       "</table>\n",
       "<p>2592 rows × 4 columns</p>\n",
       "</div>"
      ],
      "text/plain": [
       "                                               Order Number  Retail Price  \\\n",
       "Customer No. Bill First Name   Bill Last Name                               \n",
       "5507         Furhann           Mian                   40004       35616.0   \n",
       "1193         Wise Acre         Eatery                 53785        4068.0   \n",
       "5802         Scott & Christina Mercer & Pearl         92784        5391.0   \n",
       "3040         Leanna & Jan      Smith & Clark         444999        4963.0   \n",
       "5186         Lena              Davidson              267175        4850.0   \n",
       "...                                                     ...           ...   \n",
       "9968         Guest             Name                   16523           0.0   \n",
       "7435         Dan               Name                   11440           0.0   \n",
       "9113         Mira & Jessica    Name                   14587           0.0   \n",
       "9111         Guest 1           Name                   14584           0.0   \n",
       "8788         Jeff              Name                   14048           0.0   \n",
       "\n",
       "                                               Subtotal   Revenue  \n",
       "Customer No. Bill First Name   Bill Last Name                      \n",
       "5507         Furhann           Mian            25872.00  25872.00  \n",
       "1193         Wise Acre         Eatery           4068.00   4548.00  \n",
       "5802         Scott & Christina Mercer & Pearl   4218.55   4218.55  \n",
       "3040         Leanna & Jan      Smith & Clark    3671.75   3671.75  \n",
       "5186         Lena              Davidson         3644.55   3644.55  \n",
       "...                                                 ...       ...  \n",
       "9968         Guest             Name                0.00      0.00  \n",
       "7435         Dan               Name                0.00      0.00  \n",
       "9113         Mira & Jessica    Name                0.00      0.00  \n",
       "9111         Guest 1           Name                0.00      0.00  \n",
       "8788         Jeff              Name                0.00      0.00  \n",
       "\n",
       "[2592 rows x 4 columns]"
      ]
     },
     "execution_count": 22,
     "metadata": {},
     "output_type": "execute_result"
    }
   ],
   "source": [
    "grouped_buyers"
   ]
  },
  {
   "cell_type": "code",
   "execution_count": 33,
   "metadata": {},
   "outputs": [],
   "source": [
    "custm_loyalty = pd.DataFrame(data=grouped_buyers)"
   ]
  },
  {
   "cell_type": "code",
   "execution_count": 34,
   "metadata": {},
   "outputs": [],
   "source": [
    "custm_loyalty.to_csv('Customer Loyalty',index=True)"
   ]
  },
  {
   "cell_type": "code",
   "execution_count": 20,
   "metadata": {},
   "outputs": [],
   "source": [
    "loyalty.sort_values(by='Revenue',inplace=True,ascending=False)"
   ]
  },
  {
   "cell_type": "code",
   "execution_count": 14,
   "metadata": {},
   "outputs": [
    {
     "name": "stdout",
     "output_type": "stream",
     "text": [
      "<class 'pandas.core.frame.DataFrame'>\n",
      "Int64Index: 5333 entries, 389 to 5332\n",
      "Data columns (total 8 columns):\n",
      " #   Column           Non-Null Count  Dtype  \n",
      "---  ------           --------------  -----  \n",
      " 0   Order Number     5333 non-null   int64  \n",
      " 1   Wine Club Name   719 non-null    object \n",
      " 2   Retail Price     5333 non-null   float64\n",
      " 3   Subtotal         5333 non-null   float64\n",
      " 4   Revenue          5333 non-null   float64\n",
      " 5   Customer No.     5333 non-null   int64  \n",
      " 6   Bill First Name  5165 non-null   object \n",
      " 7   Bill Last Name   5333 non-null   object \n",
      "dtypes: float64(3), int64(2), object(3)\n",
      "memory usage: 375.0+ KB\n"
     ]
    }
   ],
   "source": [
    "loyalty"
   ]
  },
  {
   "cell_type": "code",
   "execution_count": 15,
   "metadata": {},
   "outputs": [
    {
     "data": {
      "text/plain": [
       "<AxesSubplot:>"
      ]
     },
     "execution_count": 15,
     "metadata": {},
     "output_type": "execute_result"
    },
    {
     "data": {
      "image/png": "[encoded data removed]",
      "text/plain": [
       "<Figure size 1080x576 with 2 Axes>"
      ]
     },
     "metadata": {},
     "output_type": "display_data"
    }
   ],
   "source": [
    "sns.heatmap(loyalty.isnull(),cmap='viridis')"
   ]
  },
  {
   "cell_type": "code",
   "execution_count": 16,
   "metadata": {},
   "outputs": [
    {
     "data": {
      "text/plain": [
       "Low          2433\n",
       "Very Low     1597\n",
       "N/A           793\n",
       "Medium        381\n",
       "High          109\n",
       "Very High      18\n",
       "Ballers         1\n",
       "Name: Buying Level, dtype: int64"
      ]
     },
     "execution_count": 16,
     "metadata": {},
     "output_type": "execute_result"
    }
   ],
   "source": [
    "#Create score ranges\n",
    "\n",
    "bins = [ -1,0, 50, 250, 500, 1000, 5000,8000]\n",
    "names = ['N/A','Very Low','Low', 'Medium', 'High', 'Very High','Ballers']\n",
    "\n",
    "loyalty[\"Buying Level\"] = pd.cut(loyalty['Revenue'],bins, labels=names)\n",
    "\n",
    "loyalty[\"Buying Level\"].value_counts()\n",
    "\n",
    "\n",
    "                    "
   ]
  },
  {
   "cell_type": "code",
   "execution_count": null,
   "metadata": {},
   "outputs": [],
   "source": []
  },
  {
   "cell_type": "code",
   "execution_count": 17,
   "metadata": {},
   "outputs": [],
   "source": [
    "grouped = loyalty.groupby(['Buying Level']).sum()"
   ]
  },
  {
   "cell_type": "code",
   "execution_count": 18,
   "metadata": {},
   "outputs": [
    {
     "data": {
      "text/html": [
       "<div>\n",
       "<style scoped>\n",
       "    .dataframe tbody tr th:only-of-type {\n",
       "        vertical-align: middle;\n",
       "    }\n",
       "\n",
       "    .dataframe tbody tr th {\n",
       "        vertical-align: top;\n",
       "    }\n",
       "\n",
       "    .dataframe thead th {\n",
       "        text-align: right;\n",
       "    }\n",
       "</style>\n",
       "<table border=\"1\" class=\"dataframe\">\n",
       "  <thead>\n",
       "    <tr style=\"text-align: right;\">\n",
       "      <th></th>\n",
       "      <th>Order Number</th>\n",
       "      <th>Retail Price</th>\n",
       "      <th>Subtotal</th>\n",
       "      <th>Revenue</th>\n",
       "      <th>Customer No.</th>\n",
       "    </tr>\n",
       "    <tr>\n",
       "      <th>Buying Level</th>\n",
       "      <th></th>\n",
       "      <th></th>\n",
       "      <th></th>\n",
       "      <th></th>\n",
       "      <th></th>\n",
       "    </tr>\n",
       "  </thead>\n",
       "  <tbody>\n",
       "    <tr>\n",
       "      <th>N/A</th>\n",
       "      <td>11039365</td>\n",
       "      <td>163078.00</td>\n",
       "      <td>0.00</td>\n",
       "      <td>0.00</td>\n",
       "      <td>2004988</td>\n",
       "    </tr>\n",
       "    <tr>\n",
       "      <th>Very Low</th>\n",
       "      <td>22078981</td>\n",
       "      <td>52815.00</td>\n",
       "      <td>47170.70</td>\n",
       "      <td>47170.70</td>\n",
       "      <td>11162706</td>\n",
       "    </tr>\n",
       "    <tr>\n",
       "      <th>Low</th>\n",
       "      <td>34443492</td>\n",
       "      <td>348854.25</td>\n",
       "      <td>293224.21</td>\n",
       "      <td>296696.13</td>\n",
       "      <td>15917086</td>\n",
       "    </tr>\n",
       "    <tr>\n",
       "      <th>Medium</th>\n",
       "      <td>5379566</td>\n",
       "      <td>166459.50</td>\n",
       "      <td>131466.85</td>\n",
       "      <td>132237.38</td>\n",
       "      <td>2088422</td>\n",
       "    </tr>\n",
       "    <tr>\n",
       "      <th>High</th>\n",
       "      <td>1595500</td>\n",
       "      <td>83135.00</td>\n",
       "      <td>63939.70</td>\n",
       "      <td>64151.11</td>\n",
       "      <td>544304</td>\n",
       "    </tr>\n",
       "    <tr>\n",
       "      <th>Very High</th>\n",
       "      <td>253221</td>\n",
       "      <td>31828.00</td>\n",
       "      <td>24670.25</td>\n",
       "      <td>25150.25</td>\n",
       "      <td>82443</td>\n",
       "    </tr>\n",
       "    <tr>\n",
       "      <th>Ballers</th>\n",
       "      <td>11655</td>\n",
       "      <td>12600.00</td>\n",
       "      <td>6300.00</td>\n",
       "      <td>6300.00</td>\n",
       "      <td>5507</td>\n",
       "    </tr>\n",
       "  </tbody>\n",
       "</table>\n",
       "</div>"
      ],
      "text/plain": [
       "              Order Number  Retail Price   Subtotal    Revenue  Customer No.\n",
       "Buying Level                                                                \n",
       "N/A               11039365     163078.00       0.00       0.00       2004988\n",
       "Very Low          22078981      52815.00   47170.70   47170.70      11162706\n",
       "Low               34443492     348854.25  293224.21  296696.13      15917086\n",
       "Medium             5379566     166459.50  131466.85  132237.38       2088422\n",
       "High               1595500      83135.00   63939.70   64151.11        544304\n",
       "Very High           253221      31828.00   24670.25   25150.25         82443\n",
       "Ballers              11655      12600.00    6300.00    6300.00          5507"
      ]
     },
     "execution_count": 18,
     "metadata": {},
     "output_type": "execute_result"
    }
   ],
   "source": [
    "grouped"
   ]
  },
  {
   "cell_type": "code",
   "execution_count": 19,
   "metadata": {},
   "outputs": [
    {
     "data": {
      "text/plain": [
       "<AxesSubplot:xlabel='Buying Level', ylabel='count'>"
      ]
     },
     "execution_count": 19,
     "metadata": {},
     "output_type": "execute_result"
    },
    {
     "data": {
      "image/png": "[encoded data removed]",
      "text/plain": [
       "<Figure size 1080x576 with 1 Axes>"
      ]
     },
     "metadata": {},
     "output_type": "display_data"
    }
   ],
   "source": [
    "# Display chart showing the number of transactions by price points\n",
    "\n",
    "sns.set(rc={'figure.figsize':(15,8)})\n",
    "\n",
    "sns.countplot(x='Buying Level',data=loyalty)"
   ]
  },
  {
   "cell_type": "code",
   "execution_count": null,
   "metadata": {},
   "outputs": [],
   "source": []
  },
  {
   "cell_type": "code",
   "execution_count": null,
   "metadata": {},
   "outputs": [],
   "source": []
  }
 ],
 "metadata": {
  "kernelspec": {
   "display_name": "Python 3",
   "language": "python",
   "name": "python3"
  },
  "language_info": {
   "codemirror_mode": {
    "name": "ipython",
    "version": 3
   },
   "file_extension": ".py",
   "mimetype": "text/x-python",
   "name": "python",
   "nbconvert_exporter": "python",
   "pygments_lexer": "ipython3",
   "version": "3.8.5"
  }
 },
 "nbformat": 4,
 "nbformat_minor": 4
}
